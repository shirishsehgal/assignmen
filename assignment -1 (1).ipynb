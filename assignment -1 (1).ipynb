{
 "cells": [
  {
   "cell_type": "code",
   "execution_count": 12,
   "metadata": {},
   "outputs": [
    {
     "name": "stdout",
     "output_type": "stream",
     "text": [
      "****\n",
      "****\n",
      "****\n",
      "****\n"
     ]
    }
   ],
   "source": [
    "for i in range(4):\n",
    "    for j in range(4):\n",
    "        print(\"*\",end='')\n",
    "        \n",
    "        \n",
    "    print()\n"
   ]
  },
  {
   "cell_type": "code",
   "execution_count": 15,
   "metadata": {},
   "outputs": [
    {
     "name": "stdout",
     "output_type": "stream",
     "text": [
      "*\n",
      "**\n",
      "***\n",
      "****\n",
      "*****\n"
     ]
    }
   ],
   "source": [
    "for i in range(5):\n",
    "    for j in range(i+1):\n",
    "        print(\"*\",end='')\n",
    "        \n",
    "        \n",
    "    print()"
   ]
  },
  {
   "cell_type": "code",
   "execution_count": 16,
   "metadata": {},
   "outputs": [
    {
     "name": "stdout",
     "output_type": "stream",
     "text": [
      "******\n",
      "*****\n",
      "****\n",
      "***\n",
      "**\n",
      "*\n"
     ]
    }
   ],
   "source": [
    "for i in range(6):\n",
    "    for j in range(6-i):\n",
    "        print(\"*\",end='')\n",
    "        \n",
    "        \n",
    "    print()"
   ]
  },
  {
   "cell_type": "code",
   "execution_count": 18,
   "metadata": {},
   "outputs": [
    {
     "name": "stdout",
     "output_type": "stream",
     "text": [
      "enter no. of rows:4\n",
      "1\n",
      "23\n",
      "456\n",
      "78910\n"
     ]
    }
   ],
   "source": [
    "n=int(input(\"enter no. of rows:\"))\n",
    "num=1\n",
    "for i in range(1,n+1):\n",
    "    for j in range(1,i+1):\n",
    "        print(num,end='')\n",
    "        num=num+1\n",
    "        \n",
    "    print()"
   ]
  },
  {
   "cell_type": "code",
   "execution_count": 25,
   "metadata": {},
   "outputs": [
    {
     "name": "stdout",
     "output_type": "stream",
     "text": [
      "enter no. of rows:4\n",
      "1\n",
      "12\n",
      "123\n",
      "1234\n"
     ]
    }
   ],
   "source": [
    "n=int(input(\"enter no. of rows:\"))\n",
    "for i in range(1,n+1):\n",
    "    for j in range(1,i+1):\n",
    "        print(j,end='')\n",
    "        \n",
    "        \n",
    "    print()"
   ]
  },
  {
   "cell_type": "code",
   "execution_count": 28,
   "metadata": {},
   "outputs": [
    {
     "name": "stdout",
     "output_type": "stream",
     "text": [
      "enter no. of rows:5\n",
      "1\n",
      "22\n",
      "333\n",
      "4444\n",
      "55555\n"
     ]
    }
   ],
   "source": [
    "n=int(input(\"enter no. of rows:\"))\n",
    "for i in range(1,n+1):\n",
    "    for j in range(1,i+1):\n",
    "        print(i,end='')\n",
    "        \n",
    "        \n",
    "    print()"
   ]
  },
  {
   "cell_type": "code",
   "execution_count": 3,
   "metadata": {},
   "outputs": [
    {
     "name": "stdout",
     "output_type": "stream",
     "text": [
      "enter a number:5\n",
      "     \n",
      "    *\n",
      "   ***\n",
      "  *****\n",
      " *******\n"
     ]
    }
   ],
   "source": [
    "n=int(input(\"enter a number:\"))\n",
    "for i in range(0,n):\n",
    "    print((n-i)*\" \"+\"*\"*(2*i-1))"
   ]
  },
  {
   "cell_type": "code",
   "execution_count": 21,
   "metadata": {},
   "outputs": [
    {
     "name": "stdout",
     "output_type": "stream",
     "text": [
      "A\r\n",
      "BC\r\n",
      "DEF\r\n",
      "GHIJ\r\n",
      "\n"
     ]
    }
   ],
   "source": [
    "def alpha(n):\n",
    "    num=65\n",
    "    for i in range(1,n+1):\n",
    "        for j in range(1,i+1):\n",
    "            a=chr(num)\n",
    "            print(a,end=\"\")\n",
    "            num=num+1\n",
    "        print(\"\\r\")\n",
    "        \n",
    "alpha(4)\n",
    "print()\n",
    "    "
   ]
  },
  {
   "cell_type": "code",
   "execution_count": 4,
   "metadata": {},
   "outputs": [
    {
     "name": "stdout",
     "output_type": "stream",
     "text": [
      "enter a number:15\n",
      "15 is not prime\n"
     ]
    }
   ],
   "source": [
    "#prime number\n",
    "n=int(input(\"enter a number:\"))\n",
    "if n>1:\n",
    "    for i in range(2,n):\n",
    "        if(n%i)==0:\n",
    "            print(n,\"is not prime\")\n",
    "            break\n",
    "    else:\n",
    "        print(n,\"is prime\")\n",
    "else:\n",
    "        print(n,\"is not prime\")"
   ]
  },
  {
   "cell_type": "code",
   "execution_count": 12,
   "metadata": {},
   "outputs": [
    {
     "name": "stdout",
     "output_type": "stream",
     "text": [
      "enter the upper limit:60\n",
      "enter the lower limit:40\n",
      "41\n",
      "43\n",
      "47\n",
      "53\n",
      "59\n"
     ]
    }
   ],
   "source": [
    "#prime number upto n\n",
    "upper=int(input(\"enter the upper limit:\"))\n",
    "lower=int(input(\"enter the lower limit:\"))\n",
    "\n",
    "\n",
    "for n in range(lower,upper+1):\n",
    "    if n>1:\n",
    "        for i in range(2,n):\n",
    "            if(n%i==0):\n",
    "                break\n",
    "        else:\n",
    "            print(n)\n",
    "\n"
   ]
  },
  {
   "cell_type": "code",
   "execution_count": 18,
   "metadata": {},
   "outputs": [
    {
     "name": "stdout",
     "output_type": "stream",
     "text": [
      "enter a number:5\n",
      "5\n",
      "10\n",
      "30\n",
      "120\n"
     ]
    }
   ],
   "source": [
    "#factorial of a number\n",
    "n=int(input(\"enter a number:\"))\n",
    "for i in range(1 ,n):\n",
    "    n*=i\n",
    "    print(n)"
   ]
  },
  {
   "cell_type": "code",
   "execution_count": 21,
   "metadata": {},
   "outputs": [
    {
     "name": "stdout",
     "output_type": "stream",
     "text": [
      "enter a number:5\n",
      "55555\n",
      "54445\n",
      "54345\n",
      "54445\n",
      "55555\n"
     ]
    }
   ],
   "source": [
    "n=int(input(\"enter a number:\"))\n",
    "for x in range(n):\n",
    "    for y in range(n):\n",
    "        print(max(x+1,y+1,n-x,n-y), end=\"\")\n",
    "    print()"
   ]
  },
  {
   "cell_type": "code",
   "execution_count": 1,
   "metadata": {
    "scrolled": true
   },
   "outputs": [
    {
     "name": "stdout",
     "output_type": "stream",
     "text": [
      "720\n"
     ]
    }
   ],
   "source": [
    "#factorial using recursion\n",
    "def fact(n):\n",
    "    if n ==0:\n",
    "        return 1\n",
    "    return n*fact(n-1)\n",
    "result=fact(6)\n",
    "print(result)\n"
   ]
  },
  {
   "cell_type": "code",
   "execution_count": 10,
   "metadata": {},
   "outputs": [
    {
     "name": "stdout",
     "output_type": "stream",
     "text": [
      "Enter first number: 24\n",
      "Enter second number: 25\n",
      "The L.C.M. of 24 and 25 is 600\n"
     ]
    }
   ],
   "source": [
    "#to find lcm of two numbers\n",
    "def lcm(x, y):  \n",
    "    if x > y:\n",
    "        greater=x\n",
    "    \n",
    "    else:\n",
    "        greater=y\n",
    "     \n",
    "    while(True):  \n",
    "        if((greater % x == 0) and (greater % y == 0)):  \n",
    "            lcm = greater  \n",
    "            break  \n",
    "        greater += 1  \n",
    "    return lcm  \n",
    "  \n",
    "num1 = int(input(\"Enter first number: \"))  \n",
    "num2 = int(input(\"Enter second number: \"))  \n",
    "print(\"The L.C.M. of\", num1,\"and\", num2,\"is\", lcm(num1, num2))   "
   ]
  },
  {
   "cell_type": "code",
   "execution_count": 17,
   "metadata": {},
   "outputs": [
    {
     "name": "stdout",
     "output_type": "stream",
     "text": [
      "enter number of terms:8\n",
      "fibonaacii series\n",
      "0\n",
      "1\n",
      "1\n",
      "2\n",
      "3\n",
      "5\n",
      "8\n",
      "13\n"
     ]
    }
   ],
   "source": [
    "#fibonacci series\n",
    "def recfibo(n):\n",
    "    if n<=1:\n",
    "        return n\n",
    "    else:\n",
    "        return(recfibo(n-1)+recfibo(n-2))\n",
    "    \n",
    "nterms=int(input(\"enter number of terms:\"))\n",
    "if nterms<=0:\n",
    "    print(\"enter valid terms\")\n",
    "else:\n",
    "    print(\"fibonaacii series\")\n",
    "    \n",
    "for i in range(nterms):\n",
    "    print(recfibo(i))\n"
   ]
  },
  {
   "cell_type": "code",
   "execution_count": 6,
   "metadata": {},
   "outputs": [
    {
     "name": "stdout",
     "output_type": "stream",
     "text": [
      "enter the number:76\n",
      "1\n",
      "2\n",
      "4\n",
      "19\n",
      "38\n"
     ]
    }
   ],
   "source": [
    "#factors of a number\n",
    "n=int(input(\"enter the number:\" ))\n",
    "for i in range(1,n):\n",
    "    if(n%i==0):\n",
    "        print(i)\n",
    "    else:\n",
    "        pass \n",
    "        "
   ]
  },
  {
   "cell_type": "code",
   "execution_count": 12,
   "metadata": {},
   "outputs": [
    {
     "name": "stdout",
     "output_type": "stream",
     "text": [
      "12345\n"
     ]
    }
   ],
   "source": [
    "#22.wap that computes the value of a+aa.....\n",
    "def sum(n):\n",
    "    sum=0\n",
    "    j=1\n",
    "    for i in range(1,n+1) :\n",
    "        sum=sum+j\n",
    "        j=j*10+1\n",
    "    return sum\n",
    "    \n",
    "    \n",
    "print(sum(5))\n"
   ]
  },
  {
   "cell_type": "code",
   "execution_count": 14,
   "metadata": {},
   "outputs": [
    {
     "name": "stdout",
     "output_type": "stream",
     "text": [
      "enter ist variable(a):10\n",
      "enter 2nd variable(b): 20\n",
      "20 10\n"
     ]
    }
   ],
   "source": [
    "#program to swap two variables\n",
    "a=int(input(\"enter ist variable(a):\"))\n",
    "b=int(input(\"enter 2nd variable(b): \"))\n",
    "(a,b)=(b,a)\n",
    "print(a,b)\n",
    "            "
   ]
  },
  {
   "cell_type": "code",
   "execution_count": 20,
   "metadata": {},
   "outputs": [
    {
     "name": "stdout",
     "output_type": "stream",
     "text": [
      "enter a number9000\n",
      "even number\n"
     ]
    }
   ],
   "source": [
    "#odd or even\n",
    "n=int(input(\"enter a number\"))\n",
    "if(n%2==0):\n",
    "    print(\"even number\",(i))\n",
    "else:\n",
    "    print(\"odd number\",(i))\n"
   ]
  },
  {
   "cell_type": "code",
   "execution_count": 6,
   "metadata": {},
   "outputs": [
    {
     "name": "stdout",
     "output_type": "stream",
     "text": [
      "enter a number:81\n",
      " square root :9.000000\n"
     ]
    }
   ],
   "source": [
    "#square root\n",
    "import math\n",
    "n=int(input(\"enter a number:\"))\n",
    "print(\" square root :%f\"%math.sqrt(n))"
   ]
  },
  {
   "cell_type": "code",
   "execution_count": 5,
   "metadata": {},
   "outputs": [
    {
     "name": "stdout",
     "output_type": "stream",
     "text": [
      "enter limit:10\n",
      "1,2,3,4,5,6,7,8,9,10,\n"
     ]
    }
   ],
   "source": [
    "#natural numbers from 1 to n\n",
    "n=int(input(\"enter limit:\"))\n",
    "for i in range(1,n+1):\n",
    "    print(i,end=',')\n",
    "    \n",
    "print()\n"
   ]
  },
  {
   "cell_type": "code",
   "execution_count": 11,
   "metadata": {},
   "outputs": [
    {
     "name": "stdout",
     "output_type": "stream",
     "text": [
      "enter a limit:10\n",
      "10,9,8,7,6,5,4,3,2,1,\n"
     ]
    }
   ],
   "source": [
    "#reverse nat no.\n",
    "n=int(input(\"enter a limit:\"))\n",
    "for i in range(n,0,-1):\n",
    "    print(i,end=',')\n",
    "print()\n",
    "    "
   ]
  },
  {
   "cell_type": "code",
   "execution_count": 7,
   "metadata": {},
   "outputs": [
    {
     "name": "stdout",
     "output_type": "stream",
     "text": [
      "odd num 1\n",
      "even num: 2\n",
      "odd num 3\n",
      "even num: 4\n",
      "odd num 5\n",
      "even num: 6\n",
      "odd num 7\n",
      "even num: 8\n",
      "odd num 9\n",
      "even num: 10\n",
      "odd num 11\n",
      "even num: 12\n",
      "odd num 13\n",
      "even num: 14\n",
      "odd num 15\n",
      "even num: 16\n",
      "odd num 17\n",
      "even num: 18\n",
      "odd num 19\n",
      "even num: 20\n",
      "odd num 21\n",
      "even num: 22\n",
      "odd num 23\n",
      "even num: 24\n",
      "odd num 25\n",
      "even num: 26\n",
      "odd num 27\n",
      "even num: 28\n",
      "odd num 29\n",
      "even num: 30\n",
      "odd num 31\n",
      "even num: 32\n",
      "odd num 33\n",
      "even num: 34\n",
      "odd num 35\n",
      "even num: 36\n",
      "odd num 37\n",
      "even num: 38\n",
      "odd num 39\n",
      "even num: 40\n",
      "odd num 41\n",
      "even num: 42\n",
      "odd num 43\n",
      "even num: 44\n",
      "odd num 45\n",
      "even num: 46\n",
      "odd num 47\n",
      "even num: 48\n",
      "odd num 49\n",
      "even num: 50\n",
      "odd num 51\n",
      "even num: 52\n",
      "odd num 53\n",
      "even num: 54\n",
      "odd num 55\n",
      "even num: 56\n",
      "odd num 57\n",
      "even num: 58\n",
      "odd num 59\n",
      "even num: 60\n",
      "odd num 61\n",
      "even num: 62\n",
      "odd num 63\n",
      "even num: 64\n",
      "odd num 65\n",
      "even num: 66\n",
      "odd num 67\n",
      "even num: 68\n",
      "odd num 69\n",
      "even num: 70\n",
      "odd num 71\n",
      "even num: 72\n",
      "odd num 73\n",
      "even num: 74\n",
      "odd num 75\n",
      "even num: 76\n",
      "odd num 77\n",
      "even num: 78\n",
      "odd num 79\n",
      "even num: 80\n",
      "odd num 81\n",
      "even num: 82\n",
      "odd num 83\n",
      "even num: 84\n",
      "odd num 85\n",
      "even num: 86\n",
      "odd num 87\n",
      "even num: 88\n",
      "odd num 89\n",
      "even num: 90\n",
      "odd num 91\n",
      "even num: 92\n",
      "odd num 93\n",
      "even num: 94\n",
      "odd num 95\n",
      "even num: 96\n",
      "odd num 97\n",
      "even num: 98\n",
      "odd num 99\n",
      "even num: 100\n",
      "\n"
     ]
    }
   ],
   "source": [
    "for i in range(1,101):\n",
    "    if(i%2==0):\n",
    "        print(\"even num:\",(i))\n",
    "    else:\n",
    "        print(\"odd num\",(i))\n",
    "print()"
   ]
  },
  {
   "cell_type": "code",
   "execution_count": 8,
   "metadata": {},
   "outputs": [
    {
     "name": "stdout",
     "output_type": "stream",
     "text": [
      "enter the number:2345\n",
      "number of digit in a given num:4\n"
     ]
    }
   ],
   "source": [
    "#no of digits in a number\n",
    "n=int(input(\"enter the number:\"))\n",
    "count=0\n",
    "while(n>0):\n",
    "    n=n//10\n",
    "    count+=1\n",
    "print(\"number of digit in a given num:%d\"%count)"
   ]
  },
  {
   "cell_type": "code",
   "execution_count": 9,
   "metadata": {},
   "outputs": [
    {
     "name": "stdout",
     "output_type": "stream",
     "text": [
      "The volume of the sphere is:  523.3333333333334\n"
     ]
    }
   ],
   "source": [
    "#vol of sphere\n",
    "pi = 3.14\n",
    "r= 5.0\n",
    "V= 4.0/3.0*pi* r**3\n",
    "print('The volume of the sphere is: ',V)"
   ]
  },
  {
   "cell_type": "code",
   "execution_count": 10,
   "metadata": {},
   "outputs": [
    {
     "name": "stdout",
     "output_type": "stream",
     "text": [
      "enter a:20\n",
      "enter b:30\n",
      "enter c:40\n",
      "the roots are(-300-479.58315233127195j)and(-300+479.58315233127195j)\n"
     ]
    }
   ],
   "source": [
    "#quadratic equation\n",
    "import cmath\n",
    "a=float(input(\"enter a:\"))\n",
    "b=float(input(\"enter b:\"))\n",
    "c=float(input(\"enter c:\"))\n",
    "d=b**2-4*a*c\n",
    "root1=(-b-cmath.sqrt(d))/2*a\n",
    "root2=(-b+cmath.sqrt(d))/2*a\n",
    "print(\"the roots are{0}and{1}\".format(root1,root2))\n"
   ]
  },
  {
   "cell_type": "code",
   "execution_count": 7,
   "metadata": {},
   "outputs": [
    {
     "name": "stdout",
     "output_type": "stream",
     "text": [
      "enter a number:20\n",
      "enter a number:30\n",
      "enter a number:10\n",
      "enter a number:stop\n",
      "3 60.0 20.0\n"
     ]
    }
   ],
   "source": [
    "#write a pro which..stop....\n",
    "count=0\n",
    "total=0.0\n",
    "while True:\n",
    "    n=input(\"enter a number:\")\n",
    "    if n =='stop':\n",
    "        break\n",
    "    try:\n",
    "        num1=float(n)\n",
    "    except:\n",
    "        print(\"invalid\")\n",
    "        continue\n",
    "    count=count+1\n",
    "    total=total+num1\n",
    "print(count,total,total/count)"
   ]
  },
  {
   "cell_type": "code",
   "execution_count": 7,
   "metadata": {},
   "outputs": [
    {
     "name": "stdout",
     "output_type": "stream",
     "text": [
      "enter the number:20\n",
      "3\n",
      "5\n",
      "6\n",
      "9\n",
      "10\n",
      "12\n",
      "15\n",
      "18\n",
      "sum of no.s which are multiples of 3 and 5 is: 78\n"
     ]
    }
   ],
   "source": [
    "#sum of multiples of 3 and 5\n",
    "n=int(input(\"enter the number:\"))\n",
    "sum=0\n",
    "for i in range(1,n):\n",
    "    if(i%3==0)or(i%5==0):\n",
    "        print(i)\n",
    "        sum=sum+i\n",
    "        \n",
    "print(\"sum of no.s which are multiples of 3 and 5 is:\", (sum))\n",
    "\n",
    "        \n",
    "      "
   ]
  },
  {
   "cell_type": "markdown",
   "metadata": {},
   "source": [
    " "
   ]
  },
  {
   "cell_type": "code",
   "execution_count": 1,
   "metadata": {},
   "outputs": [
    {
     "name": "stdout",
     "output_type": "stream",
     "text": [
      "sum of no.s which are multiples of 3 and 5 below 1000: 233168\n"
     ]
    }
   ],
   "source": [
    "#sum of multiples of 3 and 5 below 1000\n",
    "sum=0\n",
    "for i in range(1,1000):\n",
    "    if(i%3==0)or(i%5==0):\n",
    "    \n",
    "        sum=sum+i\n",
    "        \n",
    "print(\"sum of no.s which are multiples of 3 and 5 below 1000:\", (sum))\n"
   ]
  },
  {
   "cell_type": "code",
   "execution_count": 3,
   "metadata": {},
   "outputs": [
    {
     "name": "stdout",
     "output_type": "stream",
     "text": [
      "333300.0\n"
     ]
    }
   ],
   "source": [
    "#sum of squares difference\n",
    "def diff(n):\n",
    "    #sum of square of first n natural no.\n",
    "    s=(n * (n + 1) * (2 * n + 1)) / 6\n",
    "    # sum of n naturals numbers \n",
    "    k = (n * (n + 1)) / 2\n",
    "    #square of sum\n",
    "    a=k**2\n",
    "    #difference\n",
    "    m=abs(s-k)\n",
    "    \n",
    "    return(m)\n",
    "print(diff(100))\n"
   ]
  },
  {
   "cell_type": "code",
   "execution_count": 8,
   "metadata": {},
   "outputs": [
    {
     "name": "stdout",
     "output_type": "stream",
     "text": [
      "2002\n",
      "2009\n",
      "2016\n",
      "2023\n",
      "2037\n",
      "2044\n",
      "2051\n",
      "2058\n",
      "2072\n",
      "2079\n",
      "2086\n",
      "2093\n",
      "2107\n",
      "2114\n",
      "2121\n",
      "2128\n",
      "2142\n",
      "2149\n",
      "2156\n",
      "2163\n",
      "2177\n",
      "2184\n",
      "2191\n",
      "2198\n",
      "2212\n",
      "2219\n",
      "2226\n",
      "2233\n",
      "2247\n",
      "2254\n",
      "2261\n",
      "2268\n",
      "2282\n",
      "2289\n",
      "2296\n",
      "2303\n",
      "2317\n",
      "2324\n",
      "2331\n",
      "2338\n",
      "2352\n",
      "2359\n",
      "2366\n",
      "2373\n",
      "2387\n",
      "2394\n",
      "2401\n",
      "2408\n",
      "2422\n",
      "2429\n",
      "2436\n",
      "2443\n",
      "2457\n",
      "2464\n",
      "2471\n",
      "2478\n",
      "2492\n",
      "2499\n",
      "2506\n",
      "2513\n",
      "2527\n",
      "2534\n",
      "2541\n",
      "2548\n",
      "2562\n",
      "2569\n",
      "2576\n",
      "2583\n",
      "2597\n",
      "2604\n",
      "2611\n",
      "2618\n",
      "2632\n",
      "2639\n",
      "2646\n",
      "2653\n",
      "2667\n",
      "2674\n",
      "2681\n",
      "2688\n",
      "2702\n",
      "2709\n",
      "2716\n",
      "2723\n",
      "2737\n",
      "2744\n",
      "2751\n",
      "2758\n",
      "2772\n",
      "2779\n",
      "2786\n",
      "2793\n",
      "2807\n",
      "2814\n",
      "2821\n",
      "2828\n",
      "2842\n",
      "2849\n",
      "2856\n",
      "2863\n",
      "2877\n",
      "2884\n",
      "2891\n",
      "2898\n",
      "2912\n",
      "2919\n",
      "2926\n",
      "2933\n",
      "2947\n",
      "2954\n",
      "2961\n",
      "2968\n",
      "2982\n",
      "2989\n",
      "2996\n",
      "3003\n",
      "3017\n",
      "3024\n",
      "3031\n",
      "3038\n",
      "3052\n",
      "3059\n",
      "3066\n",
      "3073\n",
      "3087\n",
      "3094\n",
      "3101\n",
      "3108\n",
      "3122\n",
      "3129\n",
      "3136\n",
      "3143\n",
      "3157\n",
      "3164\n",
      "3171\n",
      "3178\n",
      "3192\n",
      "3199\n",
      "total is: 138\n"
     ]
    }
   ],
   "source": [
    "#13 ques\n",
    "count=0\n",
    "for i in range(2000,3201):\n",
    "    if(i%7==0)and(i%5!=0):\n",
    "        print(i)\n",
    "        count=count+1\n",
    "print(\"total is:\",(count))"
   ]
  },
  {
   "cell_type": "code",
   "execution_count": 1,
   "metadata": {},
   "outputs": [
    {
     "name": "stdout",
     "output_type": "stream",
     "text": [
      "if u want to do addition ,then type true in your choice and for multiplication type false \n",
      "enter your choice:false\n",
      "enternumber:5\n",
      "120\n"
     ]
    }
   ],
   "source": [
    "#11\n",
    "print(\"if u want to do addition ,then type true in your choice and for multiplication type false \")\n",
    "n=str(input(\"enter your choice:\"))\n",
    "num=int(input(\"enternumber:\"))\n",
    "sum=0\n",
    "product=1\n",
    "if(n==\"true\"):\n",
    "    for i in range(1,num+1):\n",
    "        sum=sum+i\n",
    "    print(sum)\n",
    "elif(n==\"false\"):\n",
    "    for i in range(1,num+1):\n",
    "        product=product*i\n",
    "    print(product)\n",
    "            \n",
    "\n",
    "\n",
    "\n",
    "        "
   ]
  },
  {
   "cell_type": "markdown",
   "metadata": {},
   "source": []
  },
  {
   "cell_type": "code",
   "execution_count": null,
   "metadata": {},
   "outputs": [],
   "source": []
  }
 ],
 "metadata": {
  "kernelspec": {
   "display_name": "Python 3",
   "language": "python",
   "name": "python3"
  },
  "language_info": {
   "codemirror_mode": {
    "name": "ipython",
    "version": 3
   },
   "file_extension": ".py",
   "mimetype": "text/x-python",
   "name": "python",
   "nbconvert_exporter": "python",
   "pygments_lexer": "ipython3",
   "version": "3.7.3"
  }
 },
 "nbformat": 4,
 "nbformat_minor": 2
}
